{
  "nbformat": 4,
  "nbformat_minor": 0,
  "metadata": {
    "coursera": {
      "course_slug": "mathematics-machine-learning-pca",
      "graded_item_id": "CXC11",
      "launcher_item_id": "ub5A7"
    },
    "kernelspec": {
      "display_name": "Python 3",
      "language": "python",
      "name": "python3"
    },
    "language_info": {
      "codemirror_mode": {
        "name": "ipython",
        "version": 3
      },
      "file_extension": ".py",
      "mimetype": "text/x-python",
      "name": "python",
      "nbconvert_exporter": "python",
      "pygments_lexer": "ipython3",
      "version": "3.7.3"
    },
    "colab": {
      "name": "HW2_student.ipynb의 사본",
      "provenance": [],
      "collapsed_sections": [],
      "toc_visible": true
    },
    "widgets": {
      "application/vnd.jupyter.widget-state+json": {
        "e0a1e4707cda48f682fc2d0f0415150b": {
          "model_module": "@jupyter-widgets/controls",
          "model_name": "VBoxModel",
          "state": {
            "_view_name": "VBoxView",
            "_dom_classes": [
              "widget-interact"
            ],
            "_model_name": "VBoxModel",
            "_view_module": "@jupyter-widgets/controls",
            "_model_module_version": "1.5.0",
            "_view_count": null,
            "_view_module_version": "1.5.0",
            "box_style": "",
            "layout": "IPY_MODEL_a87bc912ec6a42bbb34f6a6374f8b839",
            "_model_module": "@jupyter-widgets/controls",
            "children": [
              "IPY_MODEL_758c0b8ca669456f8aa653feccddcd12",
              "IPY_MODEL_5b728f3b2c614f0ba83cfa4e1fd5ee7f"
            ]
          }
        },
        "a87bc912ec6a42bbb34f6a6374f8b839": {
          "model_module": "@jupyter-widgets/base",
          "model_name": "LayoutModel",
          "state": {
            "_view_name": "LayoutView",
            "grid_template_rows": null,
            "right": null,
            "justify_content": null,
            "_view_module": "@jupyter-widgets/base",
            "overflow": null,
            "_model_module_version": "1.2.0",
            "_view_count": null,
            "flex_flow": null,
            "width": null,
            "min_width": null,
            "border": null,
            "align_items": null,
            "bottom": null,
            "_model_module": "@jupyter-widgets/base",
            "top": null,
            "grid_column": null,
            "overflow_y": null,
            "overflow_x": null,
            "grid_auto_flow": null,
            "grid_area": null,
            "grid_template_columns": null,
            "flex": null,
            "_model_name": "LayoutModel",
            "justify_items": null,
            "grid_row": null,
            "max_height": null,
            "align_content": null,
            "visibility": null,
            "align_self": null,
            "height": null,
            "min_height": null,
            "padding": null,
            "grid_auto_rows": null,
            "grid_gap": null,
            "max_width": null,
            "order": null,
            "_view_module_version": "1.2.0",
            "grid_template_areas": null,
            "object_position": null,
            "object_fit": null,
            "grid_auto_columns": null,
            "margin": null,
            "display": null,
            "left": null
          }
        },
        "758c0b8ca669456f8aa653feccddcd12": {
          "model_module": "@jupyter-widgets/controls",
          "model_name": "IntSliderModel",
          "state": {
            "_view_name": "IntSliderView",
            "style": "IPY_MODEL_0baeec2cedc54bee956c597c16dbb575",
            "_dom_classes": [],
            "description": "image_idx",
            "step": 1,
            "_model_name": "IntSliderModel",
            "orientation": "horizontal",
            "max": 999,
            "_view_module": "@jupyter-widgets/controls",
            "_model_module_version": "1.5.0",
            "value": 999,
            "_view_count": null,
            "disabled": false,
            "_view_module_version": "1.5.0",
            "min": 0,
            "continuous_update": true,
            "readout_format": "d",
            "description_tooltip": null,
            "readout": true,
            "_model_module": "@jupyter-widgets/controls",
            "layout": "IPY_MODEL_b31ba3e3052c4d9aa101d91b3e762809"
          }
        },
        "5b728f3b2c614f0ba83cfa4e1fd5ee7f": {
          "model_module": "@jupyter-widgets/output",
          "model_name": "OutputModel",
          "state": {
            "_view_name": "OutputView",
            "msg_id": "",
            "_dom_classes": [],
            "_model_name": "OutputModel",
            "outputs": [
              {
                "output_type": "display_data",
                "metadata": {
                  "tags": []
                },
                "image/png": "iVBORw0KGgoAAAANSUhEUgAABQMAAACaCAYAAAAdFl52AAAABHNCSVQICAgIfAhkiAAAAAlwSFlz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\n/wIw8dFlheoIAAAAAElFTkSuQmCC\n",
                "text/plain": "<Figure size 1440x1440 with 1 Axes>"
              }
            ],
            "_view_module": "@jupyter-widgets/output",
            "_model_module_version": "1.0.0",
            "_view_count": null,
            "_view_module_version": "1.0.0",
            "layout": "IPY_MODEL_ddd545dcf4784725b6d1931dab3c5853",
            "_model_module": "@jupyter-widgets/output"
          }
        },
        "0baeec2cedc54bee956c597c16dbb575": {
          "model_module": "@jupyter-widgets/controls",
          "model_name": "SliderStyleModel",
          "state": {
            "_view_name": "StyleView",
            "handle_color": null,
            "_model_name": "SliderStyleModel",
            "description_width": "",
            "_view_module": "@jupyter-widgets/base",
            "_model_module_version": "1.5.0",
            "_view_count": null,
            "_view_module_version": "1.2.0",
            "_model_module": "@jupyter-widgets/controls"
          }
        },
        "b31ba3e3052c4d9aa101d91b3e762809": {
          "model_module": "@jupyter-widgets/base",
          "model_name": "LayoutModel",
          "state": {
            "_view_name": "LayoutView",
            "grid_template_rows": null,
            "right": null,
            "justify_content": null,
            "_view_module": "@jupyter-widgets/base",
            "overflow": null,
            "_model_module_version": "1.2.0",
            "_view_count": null,
            "flex_flow": null,
            "width": null,
            "min_width": null,
            "border": null,
            "align_items": null,
            "bottom": null,
            "_model_module": "@jupyter-widgets/base",
            "top": null,
            "grid_column": null,
            "overflow_y": null,
            "overflow_x": null,
            "grid_auto_flow": null,
            "grid_area": null,
            "grid_template_columns": null,
            "flex": null,
            "_model_name": "LayoutModel",
            "justify_items": null,
            "grid_row": null,
            "max_height": null,
            "align_content": null,
            "visibility": null,
            "align_self": null,
            "height": null,
            "min_height": null,
            "padding": null,
            "grid_auto_rows": null,
            "grid_gap": null,
            "max_width": null,
            "order": null,
            "_view_module_version": "1.2.0",
            "grid_template_areas": null,
            "object_position": null,
            "object_fit": null,
            "grid_auto_columns": null,
            "margin": null,
            "display": null,
            "left": null
          }
        },
        "edbd755e169c41dca553474cd7c2df28": {
          "model_module": "@jupyter-widgets/controls",
          "model_name": "VBoxModel",
          "state": {
            "_view_name": "VBoxView",
            "_dom_classes": [
              "widget-interact"
            ],
            "_model_name": "VBoxModel",
            "_view_module": "@jupyter-widgets/controls",
            "_model_module_version": "1.5.0",
            "_view_count": null,
            "_view_module_version": "1.5.0",
            "box_style": "",
            "layout": "IPY_MODEL_bff04f92831f4f368e19854d238e4757",
            "_model_module": "@jupyter-widgets/controls",
            "children": [
              "IPY_MODEL_a1fc69820b024263918158516e962348",
              "IPY_MODEL_de9497fce0fc4161be90662ae51ded60"
            ]
          }
        },
        "bff04f92831f4f368e19854d238e4757": {
          "model_module": "@jupyter-widgets/base",
          "model_name": "LayoutModel",
          "state": {
            "_view_name": "LayoutView",
            "grid_template_rows": null,
            "right": null,
            "justify_content": null,
            "_view_module": "@jupyter-widgets/base",
            "overflow": null,
            "_model_module_version": "1.2.0",
            "_view_count": null,
            "flex_flow": null,
            "width": null,
            "min_width": null,
            "border": null,
            "align_items": null,
            "bottom": null,
            "_model_module": "@jupyter-widgets/base",
            "top": null,
            "grid_column": null,
            "overflow_y": null,
            "overflow_x": null,
            "grid_auto_flow": null,
            "grid_area": null,
            "grid_template_columns": null,
            "flex": null,
            "_model_name": "LayoutModel",
            "justify_items": null,
            "grid_row": null,
            "max_height": null,
            "align_content": null,
            "visibility": null,
            "align_self": null,
            "height": null,
            "min_height": null,
            "padding": null,
            "grid_auto_rows": null,
            "grid_gap": null,
            "max_width": null,
            "order": null,
            "_view_module_version": "1.2.0",
            "grid_template_areas": null,
            "object_position": null,
            "object_fit": null,
            "grid_auto_columns": null,
            "margin": null,
            "display": null,
            "left": null
          }
        },
        "a1fc69820b024263918158516e962348": {
          "model_module": "@jupyter-widgets/controls",
          "model_name": "IntSliderModel",
          "state": {
            "_view_name": "IntSliderView",
            "style": "IPY_MODEL_24dfc1e30d0a4cb69af13e0b7850390a",
            "_dom_classes": [],
            "description": "i",
            "step": 1,
            "_model_name": "IntSliderModel",
            "orientation": "horizontal",
            "max": 10,
            "_view_module": "@jupyter-widgets/controls",
            "_model_module_version": "1.5.0",
            "value": 10,
            "_view_count": null,
            "disabled": false,
            "_view_module_version": "1.5.0",
            "min": 0,
            "continuous_update": true,
            "readout_format": "d",
            "description_tooltip": null,
            "readout": true,
            "_model_module": "@jupyter-widgets/controls",
            "layout": "IPY_MODEL_618c824567dc42b0b61af9cf50a89f8c"
          }
        },
        "de9497fce0fc4161be90662ae51ded60": {
          "model_module": "@jupyter-widgets/output",
          "model_name": "OutputModel",
          "state": {
            "_view_name": "OutputView",
            "msg_id": "",
            "_dom_classes": [],
            "_model_name": "OutputModel",
            "outputs": [
              {
                "output_type": "display_data",
                "metadata": {
                  "tags": []
                },
                "image/png": "iVBORw0KGgoAAAANSUhEUgAAARkAAACaCAYAAACdQzzVAAAABHNCSVQICAgIfAhkiAAAAAlwSFlz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\n",
                "text/plain": "<Figure size 288x288 with 1 Axes>"
              }
            ],
            "_view_module": "@jupyter-widgets/output",
            "_model_module_version": "1.0.0",
            "_view_count": null,
            "_view_module_version": "1.0.0",
            "layout": "IPY_MODEL_f465455c743e42d8816c2d2fd8ab5894",
            "_model_module": "@jupyter-widgets/output"
          }
        },
        "24dfc1e30d0a4cb69af13e0b7850390a": {
          "model_module": "@jupyter-widgets/controls",
          "model_name": "SliderStyleModel",
          "state": {
            "_view_name": "StyleView",
            "handle_color": null,
            "_model_name": "SliderStyleModel",
            "description_width": "",
            "_view_module": "@jupyter-widgets/base",
            "_model_module_version": "1.5.0",
            "_view_count": null,
            "_view_module_version": "1.2.0",
            "_model_module": "@jupyter-widgets/controls"
          }
        },
        "618c824567dc42b0b61af9cf50a89f8c": {
          "model_module": "@jupyter-widgets/base",
          "model_name": "LayoutModel",
          "state": {
            "_view_name": "LayoutView",
            "grid_template_rows": null,
            "right": null,
            "justify_content": null,
            "_view_module": "@jupyter-widgets/base",
            "overflow": null,
            "_model_module_version": "1.2.0",
            "_view_count": null,
            "flex_flow": null,
            "width": null,
            "min_width": null,
            "border": null,
            "align_items": null,
            "bottom": null,
            "_model_module": "@jupyter-widgets/base",
            "top": null,
            "grid_column": null,
            "overflow_y": null,
            "overflow_x": null,
            "grid_auto_flow": null,
            "grid_area": null,
            "grid_template_columns": null,
            "flex": null,
            "_model_name": "LayoutModel",
            "justify_items": null,
            "grid_row": null,
            "max_height": null,
            "align_content": null,
            "visibility": null,
            "align_self": null,
            "height": null,
            "min_height": null,
            "padding": null,
            "grid_auto_rows": null,
            "grid_gap": null,
            "max_width": null,
            "order": null,
            "_view_module_version": "1.2.0",
            "grid_template_areas": null,
            "object_position": null,
            "object_fit": null,
            "grid_auto_columns": null,
            "margin": null,
            "display": null,
            "left": null
          }
        }
      }
    }
  },
  "cells": [
    {
      "cell_type": "markdown",
      "metadata": {
        "id": "LXgmmfyCzml5",
        "colab_type": "text"
      },
      "source": [
        "# [CS376] Homework 2. PCA\n",
        "\n",
        "- TA : Donghoon Ham (dhham@ai.kaist.ac.kr), Jaehong Yoon (jaehong.yoon93@gmail.com)\n",
        "- Due Date : 15th Dec, 23:59 (**Any late submissions will not be accepted.**)\n",
        "- Office Hour : E3-1 2443, Tues 18:30~21:30 \n",
        "- Skeleton codes for this homework are based on tutorial code for textbook written by Marc Deisenroth. \n",
        "- If you're not familar with Google colab or Jupyter notebook, contact TAs in e-mail or come TA office hour on tuesday to get our help.\n",
        "\n",
        "\n"
      ]
    },
    {
      "cell_type": "markdown",
      "metadata": {
        "id": "oEPOmOVs9Pz5",
        "colab_type": "text"
      },
      "source": [
        "## README\n",
        "\n",
        "This notebook file is *incomplete* at the first time, so you should implement some code cells for this homework.\n",
        "\n",
        "In addition, you should write answers for given questions.\n",
        "\n",
        "In HW2, you should submit following file:\n",
        "- `hw2.ipynb`: a **completed** version of this IPython notebook. \n",
        "  - You should **implement total 5 python code cells (which are marked as TODO)** and **exercise problem** for given questions. \n",
        "  - Every code cell should be working and leave outputs when you submit HW.\n",
        "  - To avoid cheating, **comment out each piece of code in detail**.\n",
        "  - **Do NOT clear** your outputs (ex. plots, outputs, etc.).  \n",
        "\n",
        "After finishing the homework, please submit this file to **Homework 2 section in KLMS**.\n",
        "\n",
        "\n",
        "\n",
        "### Instructions\n",
        "- First of all, you should copy the original Colab notebook into your Google drive.\n",
        "  - Sign in Google.\n",
        "  - Click `File` in the left top on menu and select `Save a copy in Drive..`.\n",
        "- Then you can edit your copied notebook in Google Colab!\n",
        "  - Fill in the `TODO` marked part to run appropriately. \n",
        "  - Each code cell will be executed when you click the play button left side of the cell (or press `Ctrl+Enter`).\n",
        "- Download your copied notebook file (`.ipynb` file) to your local and rename it as `hw2.ipynb`.\n",
        "- Upload the file (`hw2.ipynb`) to KLMS Homework 1 section.\n",
        "\n",
        "##<font color=red>**[IMPORTANT]**</font>\n",
        "\n",
        "**Please submit the notebook file (without compressing) with the name like below:**\n",
        "\n",
        "**HW2_StudentID.ipynb**\n",
        "\n",
        "**ex) HW2_20191234.ipynb**\n",
        "\n",
        "<font color=red>**If you do not follow this format, you may be penalized.**</font>\n",
        "\n",
        "### Q&A Policies\n",
        "- If you think your question is important for every student, make your question about HW as a comment on the code cell block in [the original notebook](https://colab.research.google.com/drive/1Ye7fnZ3PZl2REidUhWT0aNWGDYzEPVJb), not your copy.\n",
        "- If you want to ask some questions about your code, contact TAs in e-mail or come TA office hour.\n",
        "\n",
        "\n",
        "\n",
        "---\n",
        "\n",
        "\n"
      ]
    },
    {
      "cell_type": "markdown",
      "metadata": {
        "id": "kPxAG0m7zml7",
        "colab_type": "text"
      },
      "source": [
        "## 0. Prerequisites\n",
        "\n",
        "You can use following packages in this HW:\n",
        "\n",
        "1. Write code that implements PCA.\n",
        "2. Write code that implements PCA for high-dimensional datasets\n",
        "3. Visuallize PCA results."
      ]
    },
    {
      "cell_type": "markdown",
      "metadata": {
        "id": "QKyOrrQPzml8",
        "colab_type": "text"
      },
      "source": [
        "Let's first import the packages we need for this HW\n",
        "\n",
        "**You can only use Numpy library for implement these questions**"
      ]
    },
    {
      "cell_type": "code",
      "metadata": {
        "id": "u3cxWyeIzml8",
        "colab_type": "code",
        "colab": {}
      },
      "source": [
        "# PACKAGE: DO NOT EDIT THIS CELL\n",
        "import numpy as np\n",
        "import timeit\n",
        "import matplotlib as mpl\n",
        "mpl.use('Agg')\n",
        "import matplotlib.pyplot as plt\n",
        "plt.style.use('fivethirtyeight')\n",
        "from ipywidgets import interact\n",
        "from sklearn.datasets import fetch_mldata"
      ],
      "execution_count": 0,
      "outputs": []
    },
    {
      "cell_type": "code",
      "metadata": {
        "id": "y_j_EfyNzmmA",
        "colab_type": "code",
        "colab": {}
      },
      "source": [
        "# PACKAGE: DO NOT EDIT THIS CELL\n",
        "from sklearn.datasets import fetch_openml\n",
        "images, labels = fetch_openml('mnist_784', version=1, return_X_y=True)"
      ],
      "execution_count": 0,
      "outputs": []
    },
    {
      "cell_type": "code",
      "metadata": {
        "id": "84gKk1nwzmmC",
        "colab_type": "code",
        "colab": {}
      },
      "source": [
        "%matplotlib inline"
      ],
      "execution_count": 0,
      "outputs": []
    },
    {
      "cell_type": "markdown",
      "metadata": {
        "id": "o1YnGj24zmmF",
        "colab_type": "text"
      },
      "source": [
        "Now, let's plot a digit from the dataset:"
      ]
    },
    {
      "cell_type": "code",
      "metadata": {
        "id": "YvRmZkMOzmmG",
        "colab_type": "code",
        "outputId": "aed88e96-cf73-480f-eb99-fb231d3bcd8b",
        "colab": {
          "base_uri": "https://localhost:8080/",
          "height": 262
        }
      },
      "source": [
        "plt.figure(figsize=(4,4))\n",
        "plt.imshow(images[0].reshape(28,28), cmap='gray');"
      ],
      "execution_count": 0,
      "outputs": [
        {
          "output_type": "display_data",
          "data": {
            "image/png": "[encoded data removed]",
            "text/plain": [
              "<Figure size 288x288 with 1 Axes>"
            ]
          },
          "metadata": {
            "tags": []
          }
        }
      ]
    },
    {
      "cell_type": "markdown",
      "metadata": {
        "id": "ucIhX4dlzmmJ",
        "colab_type": "text"
      },
      "source": [
        "\n",
        "Before we implement PCA, we will need to do some data preprocessing. In this assessment, some of them \n",
        "will be implemented by you, others we will take care of. However, when you are working on real world problems, you will need to do all these steps by yourself.\n",
        "\n",
        "The preprocessing steps we will do are\n",
        "1. Convert unsigned interger 8 (uint8) encoding of pixels to a floating point number between 0 and 1.\n",
        "2. Subtract from each image the mean $\\boldsymbol \\mu$.\n",
        "3. Scale each dimension of each image by $\\frac{1}{\\sigma}$ where $\\sigma$ is the stardard deviation.\n",
        "\n",
        "The steps above ensure that our images will have zero mean and one variance. These preprocessing\n",
        "steps are also known as [Data Normalization or Feature Scaling](https://en.wikipedia.org/wiki/Feature_scaling)."
      ]
    },
    {
      "cell_type": "markdown",
      "metadata": {
        "id": "N6LxHJm3zmmK",
        "colab_type": "text"
      },
      "source": [
        "## 1. PCA\n",
        "\n",
        "Now we will implement PCA. Before we do that, let's pause for a moment and\n",
        "think about the steps for performing PCA. Assume that we are performing PCA on\n",
        "some dataset $\\boldsymbol X$ for $M$ principal components. \n",
        "We then need to perform the following steps, which we break into parts:\n",
        "\n",
        "1. Data normalization (`normalize`).\n",
        "2. Find eigenvalues and corresponding eigenvectors for the covariance matrix $S$.\n",
        "   Sort by the largest eigenvalues and the corresponding eigenvectors (`eig`).\n",
        "\n",
        "After these steps, we can then compute the projection and reconstruction of the data onto the spaced spanned by the top $n$ eigenvectors."
      ]
    },
    {
      "cell_type": "code",
      "metadata": {
        "scrolled": true,
        "id": "kjsWnYHxzmmL",
        "colab_type": "code",
        "colab": {}
      },
      "source": [
        "## TODO 1~4: EDIT THESE FUNCTIONS\n",
        "\n",
        "def normalize(X):\n",
        "    \"\"\"Normalize the given dataset X\n",
        "    Args:\n",
        "        X: ndarray, dataset\n",
        "    \n",
        "    Returns:\n",
        "        (Xbar, mean, std): tuple of ndarray, Xbar is the normalized dataset\n",
        "        with mean 0 and standard deviation 1; mean and std are the \n",
        "        mean and standard deviation respectively.\n",
        "    \n",
        "    Note:\n",
        "        You will encounter dimensions where the standard deviation is\n",
        "        zero, for those when you do normalization the normalized data\n",
        "        will be NaN. Handle this by setting using `std = 1` for those \n",
        "        dimensions when doing normalization.\n",
        "    \"\"\"\n",
        "    mean=X.mean(axis=0)\n",
        "    std=X.std(axis=0)\n",
        "    for i in range(std.shape[0]):\n",
        "      if std[i]==0: std[i]=1\n",
        "    Xbar=(X-mean)/std\n",
        "    return (Xbar,mean,std)\n",
        "\n",
        "def eig(S):\n",
        "    \"\"\"Compute the eigenvalues and corresponding eigenvectors \n",
        "        for the covariance matrix S.\n",
        "    Args:\n",
        "        S: ndarray, covariance matrix\n",
        "    \n",
        "    Returns:\n",
        "        (eigvals, eigvecs): ndarray, the eigenvalues and eigenvectors\n",
        "\n",
        "    Note:\n",
        "        the eigenvals and eigenvecs should be sorted in descending\n",
        "        order of the eigen values\n",
        "    \"\"\"\n",
        "    return np.linalg.eig(S) # <-- EDIT THIS to return the eigenvalues and corresponding eigenvectors\n",
        "\n",
        "def projection_matrix(B):\n",
        "    \"\"\"Compute the projection matrix onto the space spanned by `B`\n",
        "    Args:\n",
        "        B: ndarray of dimension (D, M), the basis for the subspace\n",
        "    \n",
        "    Returns:\n",
        "        P: the projection matrix\n",
        "    \"\"\"\n",
        "    return B@(np.linalg.inv(B.T@B))@B.T # <-- EDIT THIS to compute the projection matrix\n",
        "\n",
        "def PCA(X, num_components):\n",
        "    \"\"\"\n",
        "    Args:\n",
        "        X: ndarray of size (N, D), where D is the dimension of the data,\n",
        "           and N is the number of datapoints\n",
        "        num_components: the number of principal components to use.\n",
        "    Returns:\n",
        "        X_reconstruct: ndarray of the reconstruction\n",
        "        of X from the first `num_components` principal components.\n",
        "    \"\"\"\n",
        "    # your solution should take advantage of the functions you have implemented above.\n",
        "    eigvals,eigvecs=eig(np.cov(X.T)) # X_cov,eigvecs: (D,D)\n",
        "    B=eigvecs[:,:num_components] # B: (D,num_components=M)\n",
        "    P=projection_matrix(B) # P: (D,D)\n",
        "    return X@P # <-- EDIT THIS to return the reconstruction of X\n"
      ],
      "execution_count": 0,
      "outputs": []
    },
    {
      "cell_type": "code",
      "metadata": {
        "id": "_vzAOQPAzmmO",
        "colab_type": "code",
        "colab": {}
      },
      "source": [
        "## Some preprocessing of the data\n",
        "NUM_DATAPOINTS = 1000\n",
        "X = (images.reshape(-1, 28 * 28)[:NUM_DATAPOINTS]) / 255.\n",
        "Xbar, mu, std = normalize(X)"
      ],
      "execution_count": 0,
      "outputs": []
    },
    {
      "cell_type": "code",
      "metadata": {
        "id": "BwUAZyCGzmmQ",
        "colab_type": "code",
        "outputId": "361a27fe-90a8-4cc8-ee9f-f9bf0e927c94",
        "colab": {
          "base_uri": "https://localhost:8080/",
          "height": 351
        }
      },
      "source": [
        "for num_component in range(1, 20):\n",
        "    from sklearn.decomposition import PCA as SKPCA\n",
        "    # We can compute a standard solution given by scikit-learn's implementation of PCA\n",
        "    pca = SKPCA(n_components=num_component, svd_solver='full')\n",
        "    sklearn_reconst = pca.inverse_transform(pca.fit_transform(Xbar))\n",
        "    reconst = PCA(Xbar, num_component)\n",
        "    np.testing.assert_almost_equal(reconst, sklearn_reconst) # <-- If your implementaion is wrong, this line gives you error message. Fix your above implementation\n",
        "    print(np.square(reconst - sklearn_reconst).sum()) # <-- If this value is very small (1e-25~), then you maybe correct"
      ],
      "execution_count": 0,
      "outputs": [
        {
          "output_type": "stream",
          "text": [
            "(6.278292978529649e-25+0j)\n",
            "(1.937223252297025e-24+0j)\n",
            "(1.1885276450714926e-24+0j)\n",
            "(1.5441344297667203e-24+0j)\n",
            "(9.401774685858339e-25+0j)\n",
            "(1.3928639670560478e-24+0j)\n",
            "(4.114225557392558e-24+0j)\n",
            "(1.5239191534579623e-24+0j)\n",
            "(8.996056070214364e-24+0j)\n",
            "(5.277947512037647e-24+0j)\n",
            "(4.891416763437509e-22+0j)\n",
            "(3.21582666404491e-24+0j)\n",
            "(4.665222830946173e-22+0j)\n",
            "(3.1619682055921454e-23+0j)\n",
            "(1.2915138365877334e-23+0j)\n",
            "(2.2861957588060408e-23+0j)\n",
            "(1.5291635131371121e-23+0j)\n",
            "(1.1460155178392075e-23+0j)\n",
            "(3.379988292473883e-23+0j)\n"
          ],
          "name": "stdout"
        }
      ]
    },
    {
      "cell_type": "markdown",
      "metadata": {
        "id": "hr9n_OxHzmmT",
        "colab_type": "text"
      },
      "source": [
        "The greater number of principal components we use, the smaller will our reconstruction\n",
        "error be. Now, let's answer the following question: \n",
        "\n",
        "\n",
        "> How many principal components do we need\n",
        "> in order to reach a Mean Squared Error (MSE) of less than $100$ for our dataset?\n",
        "\n"
      ]
    },
    {
      "cell_type": "markdown",
      "metadata": {
        "id": "yur_xuUDzmmU",
        "colab_type": "text"
      },
      "source": [
        "We have provided a function in the next cell that computes the mean squared error (MSE), which will be useful for answering the question above."
      ]
    },
    {
      "cell_type": "code",
      "metadata": {
        "id": "CiYHUb8rzmmU",
        "colab_type": "code",
        "colab": {}
      },
      "source": [
        "def mse(predict, actual):\n",
        "    \"\"\"Helper function for computing the mean squared error (MSE)\"\"\"\n",
        "    return np.square(predict - actual).sum(axis=1).mean()"
      ],
      "execution_count": 0,
      "outputs": []
    },
    {
      "cell_type": "code",
      "metadata": {
        "id": "bzZ1dEFCzmmX",
        "colab_type": "code",
        "colab": {}
      },
      "source": [
        "loss = []\n",
        "reconstructions = []\n",
        "# iterate over different numbers of principal components, and compute the MSE\n",
        "for num_component in range(1, 100):\n",
        "    reconst = PCA(Xbar, num_component)\n",
        "    error = mse(reconst, Xbar)\n",
        "    reconstructions.append(reconst)\n",
        "    # print('n = {:d}, reconstruction_error = {:f}'.format(num_component, error))\n",
        "    loss.append((num_component, error))\n",
        "\n",
        "reconstructions = np.asarray(reconstructions)\n",
        "reconstructions = reconstructions * std + mu # \"unnormalize\" the reconstructed image\n",
        "loss = np.asarray(loss)"
      ],
      "execution_count": 0,
      "outputs": []
    },
    {
      "cell_type": "code",
      "metadata": {
        "id": "QPJh0EgxzmmZ",
        "colab_type": "code",
        "outputId": "9b93e6f0-dbd9-4f57-8489-5c534102e66d",
        "colab": {
          "base_uri": "https://localhost:8080/",
          "height": 195
        }
      },
      "source": [
        "import pandas as pd\n",
        "# create a table showing the number of principal components and MSE\n",
        "pd.DataFrame(loss).head()"
      ],
      "execution_count": 0,
      "outputs": [
        {
          "output_type": "execute_result",
          "data": {
            "text/html": [
              "<div>\n",
              "<style scoped>\n",
              "    .dataframe tbody tr th:only-of-type {\n",
              "        vertical-align: middle;\n",
              "    }\n",
              "\n",
              "    .dataframe tbody tr th {\n",
              "        vertical-align: top;\n",
              "    }\n",
              "\n",
              "    .dataframe thead th {\n",
              "        text-align: right;\n",
              "    }\n",
              "</style>\n",
              "<table border=\"1\" class=\"dataframe\">\n",
              "  <thead>\n",
              "    <tr style=\"text-align: right;\">\n",
              "      <th></th>\n",
              "      <th>0</th>\n",
              "      <th>1</th>\n",
              "    </tr>\n",
              "  </thead>\n",
              "  <tbody>\n",
              "    <tr>\n",
              "      <th>0</th>\n",
              "      <td>1.000000+0.000000j</td>\n",
              "      <td>569.447737+0.000000j</td>\n",
              "    </tr>\n",
              "    <tr>\n",
              "      <th>1</th>\n",
              "      <td>2.000000+0.000000j</td>\n",
              "      <td>536.059608+0.000000j</td>\n",
              "    </tr>\n",
              "    <tr>\n",
              "      <th>2</th>\n",
              "      <td>3.000000+0.000000j</td>\n",
              "      <td>508.250286+0.000000j</td>\n",
              "    </tr>\n",
              "    <tr>\n",
              "      <th>3</th>\n",
              "      <td>4.000000+0.000000j</td>\n",
              "      <td>487.018907+0.000000j</td>\n",
              "    </tr>\n",
              "    <tr>\n",
              "      <th>4</th>\n",
              "      <td>5.000000+0.000000j</td>\n",
              "      <td>467.571610+0.000000j</td>\n",
              "    </tr>\n",
              "  </tbody>\n",
              "</table>\n",
              "</div>"
            ],
            "text/plain": [
              "                    0                     1\n",
              "0  1.000000+0.000000j  569.447737+0.000000j\n",
              "1  2.000000+0.000000j  536.059608+0.000000j\n",
              "2  3.000000+0.000000j  508.250286+0.000000j\n",
              "3  4.000000+0.000000j  487.018907+0.000000j\n",
              "4  5.000000+0.000000j  467.571610+0.000000j"
            ]
          },
          "metadata": {
            "tags": []
          },
          "execution_count": 290
        }
      ]
    },
    {
      "cell_type": "markdown",
      "metadata": {
        "id": "er10Ztqjzmmc",
        "colab_type": "text"
      },
      "source": [
        "We can also put these numbers into perspective by plotting them."
      ]
    },
    {
      "cell_type": "code",
      "metadata": {
        "id": "DY5V4toDzmmc",
        "colab_type": "code",
        "outputId": "073c05e3-9f35-485d-83a9-c7b7e3599374",
        "colab": {
          "base_uri": "https://localhost:8080/",
          "height": 331
        }
      },
      "source": [
        "fig, ax = plt.subplots()\n",
        "ax.plot(loss[:,0], loss[:,1]);\n",
        "ax.axhline(100, linestyle='--', color='r', linewidth=2)\n",
        "ax.xaxis.set_ticks(np.arange(1, 100, 5));\n",
        "ax.set(xlabel='num_components', ylabel='MSE', title='MSE vs number of principal components');"
      ],
      "execution_count": 0,
      "outputs": [
        {
          "output_type": "stream",
          "text": [
            "/usr/local/lib/python3.6/dist-packages/numpy/core/_asarray.py:85: ComplexWarning: Casting complex values to real discards the imaginary part\n",
            "  return array(a, dtype, copy=False, order=order)\n"
          ],
          "name": "stderr"
        },
        {
          "output_type": "display_data",
          "data": {
            "image/png": "[encoded data removed]",
            "text/plain": [
              "<Figure size 432x288 with 1 Axes>"
            ]
          },
          "metadata": {
            "tags": []
          }
        }
      ]
    },
    {
      "cell_type": "markdown",
      "metadata": {
        "id": "86coE469zmmf",
        "colab_type": "text"
      },
      "source": [
        "But _numbers dont't tell us everything_! Just what does it mean _qualitatively_ for the loss to decrease from around\n",
        "$450.0$ to less than $100.0$?\n",
        "\n",
        "Let's find out! In the next cell, we draw the the leftmost image is the original dight. Then we show the reconstruction of the image on the right, in descending number of principal components used."
      ]
    },
    {
      "cell_type": "code",
      "metadata": {
        "scrolled": true,
        "id": "H_ynV9S-zmmg",
        "colab_type": "code",
        "outputId": "b5bf025f-e679-4d3a-ae56-d2a32136d6b0",
        "colab": {
          "base_uri": "https://localhost:8080/",
          "height": 220,
          "referenced_widgets": [
            "e0a1e4707cda48f682fc2d0f0415150b",
            "a87bc912ec6a42bbb34f6a6374f8b839",
            "758c0b8ca669456f8aa653feccddcd12",
            "5b728f3b2c614f0ba83cfa4e1fd5ee7f",
            "0baeec2cedc54bee956c597c16dbb575",
            "b31ba3e3052c4d9aa101d91b3e762809"
          ]
        }
      },
      "source": [
        "@interact(image_idx=(0, 999))\n",
        "def show_num_components_reconst(image_idx):\n",
        "    fig, ax = plt.subplots(figsize=(20., 20.))\n",
        "    actual = X[image_idx]\n",
        "    # concatenate the actual and reconstructed images as large image before plotting it\n",
        "    x = np.concatenate([actual[np.newaxis, :], reconstructions[:, image_idx]])\n",
        "    ax.imshow(np.real(np.hstack(x.reshape(-1, 28, 28)[np.arange(10)])),\n",
        "              cmap='gray');\n",
        "    ax.axvline(28, color='orange', linewidth=2)"
      ],
      "execution_count": 0,
      "outputs": [
        {
          "output_type": "display_data",
          "data": {
            "application/vnd.jupyter.widget-view+json": {
              "model_id": "e0a1e4707cda48f682fc2d0f0415150b",
              "version_minor": 0,
              "version_major": 2
            },
            "text/plain": [
              "interactive(children=(IntSlider(value=499, description='image_idx', max=999), Output()), _dom_classes=('widget…"
            ]
          },
          "metadata": {
            "tags": []
          }
        }
      ]
    },
    {
      "cell_type": "markdown",
      "metadata": {
        "id": "yRJGOaf8zmmi",
        "colab_type": "text"
      },
      "source": [
        "We can also browse throught the reconstructions for other digits. Once again, `interact` becomes handy for visualing the reconstruction."
      ]
    },
    {
      "cell_type": "code",
      "metadata": {
        "scrolled": true,
        "id": "LEibm0AYzmmj",
        "colab_type": "code",
        "outputId": "ca0d4223-369b-47c9-8982-11ef232bd2ab",
        "colab": {
          "base_uri": "https://localhost:8080/",
          "height": 203,
          "referenced_widgets": [
            "edbd755e169c41dca553474cd7c2df28",
            "bff04f92831f4f368e19854d238e4757",
            "a1fc69820b024263918158516e962348",
            "de9497fce0fc4161be90662ae51ded60",
            "24dfc1e30d0a4cb69af13e0b7850390a",
            "618c824567dc42b0b61af9cf50a89f8c"
          ]
        }
      },
      "source": [
        "@interact(i=(0, 10))\n",
        "def show_pca_digits(i=1):\n",
        "    \"\"\"Show the i th digit and its reconstruction\"\"\"\n",
        "    plt.figure(figsize=(4,4))\n",
        "    actual_sample = X[i].reshape(28,28)\n",
        "    reconst_sample = (reconst[i, :] * std + mu).reshape(28, 28)\n",
        "    plt.imshow(np.real(np.hstack([actual_sample, reconst_sample])), cmap='gray')\n",
        "    plt.show()"
      ],
      "execution_count": 0,
      "outputs": [
        {
          "output_type": "display_data",
          "data": {
            "application/vnd.jupyter.widget-view+json": {
              "model_id": "edbd755e169c41dca553474cd7c2df28",
              "version_minor": 0,
              "version_major": 2
            },
            "text/plain": [
              "interactive(children=(IntSlider(value=1, description='i', max=10), Output()), _dom_classes=('widget-interact',…"
            ]
          },
          "metadata": {
            "tags": []
          }
        }
      ]
    },
    {
      "cell_type": "markdown",
      "metadata": {
        "id": "BCUU__YHzmmm",
        "colab_type": "text"
      },
      "source": [
        "## 2. PCA for high-dimensional datasets\n",
        "\n",
        "Sometimes, the dimensionality of our dataset may be larger than the number of samples we\n",
        "have. Then it might be inefficient to perform PCA with our implementation above. Instead,\n",
        "we can implement PCA in a more efficient manner, which we call \"PCA for high dimensional data\" (PCA_high_dim).\n",
        "\n",
        "Below are the steps for performing PCA for high dimensional dataset\n",
        "1. Compute the matrix $\\boldsymbol X\\boldsymbol X^T$ (a $N$ by $N$ matrix with $N \\ll D$)\n",
        "2. Compute eigenvalues $\\lambda$s and eigenvectors $V$ for $\\boldsymbol X\\boldsymbol X^T$\n",
        "3. Compute the eigenvectors for the original covariance matrix as $\\boldsymbol X^T\\boldsymbol V$. Choose the eigenvectors associated with the M largest eigenvalues to be the basis of the principal subspace $U$.\n",
        "4. Compute the orthogonal projection of the data onto the subspace spanned by columns of $\\boldsymbol U$."
      ]
    },
    {
      "cell_type": "code",
      "metadata": {
        "id": "K6zgwIbHzmmm",
        "colab_type": "code",
        "colab": {}
      },
      "source": [
        "### PCA for high-dimensional datasets\n",
        "## TODO 5: EDIT THIS FUNCTION\n",
        "def PCA_high_dim(X, num_components):\n",
        "    \"\"\"Compute PCA for small sample size but high-dimensional features. \n",
        "    Args:\n",
        "        X: ndarray of size (N, D), where D is the dimension of the sample,\n",
        "           and N is the number of samples\n",
        "        num_components: the number of principal components to use.\n",
        "    Returns:\n",
        "        X_reconstruct: (N, D) ndarray. the reconstruction\n",
        "        of X from the first `num_components` pricipal components.\n",
        "    \"\"\"\n",
        "    eigvals,eigvecs=eig(X@X.T) # X@X.T,eigvecs: (N,N)\n",
        "    real_eigvecs=X.T@eigvecs # real_eigvecs: (D,N) / real_eigvals=N*eigvals\n",
        "    B=real_eigvecs[:,:num_components] # B: (D,num_components=M)\n",
        "    P=projection_matrix(B) # P: (D,D)\n",
        "    return X@P # <-- EDIT THIS to return the reconstruction of X"
      ],
      "execution_count": 0,
      "outputs": []
    },
    {
      "cell_type": "markdown",
      "metadata": {
        "id": "oIHPzjZXzmmp",
        "colab_type": "text"
      },
      "source": [
        "Given the same dataset, `PCA_high_dim` and `PCA` should give the same output. \n",
        "Assuming we have implemented `PCA`, correctly, we can then use `PCA` to test the correctness\n",
        "of `PCA_high_dim`. Given the same dataset, `PCA` and `PCA_high_dim` should give identical results.\n",
        "\n",
        "We can use this __invariant__\n",
        "to test our implementation of PCA_high_dim, assuming that we have correctly implemented `PCA`."
      ]
    },
    {
      "cell_type": "code",
      "metadata": {
        "id": "V1TgjHQTzmmq",
        "colab_type": "code",
        "colab": {}
      },
      "source": [
        "np.testing.assert_almost_equal(PCA(Xbar, 2), PCA_high_dim(Xbar, 2))"
      ],
      "execution_count": 0,
      "outputs": []
    },
    {
      "cell_type": "markdown",
      "metadata": {
        "id": "-UVV7Hxnzmms",
        "colab_type": "text"
      },
      "source": [
        "Now let's compare the running time between `PCA` and `PCA_high_dim`.\n",
        "\n",
        "__Tips__ for running benchmarks or computationally expensive code:\n",
        "\n",
        "When you have some computation that takes up a non-negligible amount of time. Try separating\n",
        "the code that produces output from the code that analyzes the result (e.g. plot the results, compute statistics of the results). In this way, you don't have to recompute when you want to produce more analysis."
      ]
    },
    {
      "cell_type": "markdown",
      "metadata": {
        "id": "IxPZ1hBMzmmt",
        "colab_type": "text"
      },
      "source": [
        "The next cell includes a function that records the time taken for executing a function `f` by repeating it for `repeat` number of times. You do not need to modify the function but you can use it to compare the running time for functions which you are interested in knowing the running time."
      ]
    },
    {
      "cell_type": "code",
      "metadata": {
        "id": "Ru7jqo3Qzmmu",
        "colab_type": "code",
        "colab": {}
      },
      "source": [
        "def time(f, repeat=10):\n",
        "    times = []\n",
        "    for _ in range(repeat):\n",
        "        start = timeit.default_timer()\n",
        "        f()\n",
        "        stop = timeit.default_timer()\n",
        "        times.append(stop-start)\n",
        "    return np.mean(times), np.std(times)"
      ],
      "execution_count": 0,
      "outputs": []
    },
    {
      "cell_type": "markdown",
      "metadata": {
        "id": "zkCRzzVnzmmz",
        "colab_type": "text"
      },
      "source": [
        "We first benchmark the time taken to compute $\\boldsymbol X^T\\boldsymbol X$ and $\\boldsymbol X\\boldsymbol X^T$. Jupyter's magic command `%time` is quite handy."
      ]
    },
    {
      "cell_type": "markdown",
      "metadata": {
        "id": "kAPCp6Dqzmm0",
        "colab_type": "text"
      },
      "source": [
        "The next cell finds the running time for computing $\\boldsymbol X^T\\boldsymbol X$ and $\\boldsymbol X\\boldsymbol X^T$ for different dimensions of $\\boldsymbol X$."
      ]
    },
    {
      "cell_type": "code",
      "metadata": {
        "id": "6OVPXiRnzmm2",
        "colab_type": "code",
        "colab": {}
      },
      "source": [
        "times_mm0 = []\n",
        "times_mm1 = []\n",
        "\n",
        "# iterate over datasets of different size\n",
        "for datasetsize in np.arange(4, 784, step=20):\n",
        "    XX = Xbar[:datasetsize] # select the first `datasetsize` samples in the dataset\n",
        "    # record the running time for computing X.T @ X\n",
        "    mu, sigma = time(lambda : XX.T @ XX)\n",
        "    times_mm0.append((datasetsize, mu, sigma))\n",
        "    \n",
        "    # record the running time for computing X @ X.T\n",
        "    mu, sigma = time(lambda : XX @ XX.T)\n",
        "    times_mm1.append((datasetsize, mu, sigma))\n",
        "    \n",
        "times_mm0 = np.asarray(times_mm0)\n",
        "times_mm1 = np.asarray(times_mm1)"
      ],
      "execution_count": 0,
      "outputs": []
    },
    {
      "cell_type": "markdown",
      "metadata": {
        "id": "Sq82L1nSzmm4",
        "colab_type": "text"
      },
      "source": [
        "Having recorded the running time for computing `X @ X.T` and `X @ X.T`, we can plot them."
      ]
    },
    {
      "cell_type": "code",
      "metadata": {
        "id": "PQK1Vc26zmm5",
        "colab_type": "code",
        "outputId": "8895b711-426d-446b-cde3-26b7b843190a",
        "colab": {
          "base_uri": "https://localhost:8080/",
          "height": 279
        }
      },
      "source": [
        "fig, ax = plt.subplots()\n",
        "ax.set(xlabel='size of dataset', ylabel='running time')\n",
        "bar = ax.errorbar(times_mm0[:, 0], times_mm0[:, 1], times_mm0[:, 2], label=\"$X^T X$ (PCA)\", linewidth=2)\n",
        "ax.errorbar(times_mm1[:, 0], times_mm1[:, 1], times_mm1[:, 2], label=\"$X X^T$ (PCA_high_dim)\", linewidth=2)\n",
        "ax.legend();"
      ],
      "execution_count": 0,
      "outputs": [
        {
          "output_type": "display_data",
          "data": {
            "image/png": "[encoded data removed]",
            "text/plain": [
              "<Figure size 432x288 with 1 Axes>"
            ]
          },
          "metadata": {
            "tags": []
          }
        }
      ]
    },
    {
      "cell_type": "markdown",
      "metadata": {
        "id": "3REINqdXzmm7",
        "colab_type": "text"
      },
      "source": [
        "Alternatively, use the `time` magic command for benchmarking functions."
      ]
    },
    {
      "cell_type": "code",
      "metadata": {
        "id": "4a5ZA8N5zmm8",
        "colab_type": "code",
        "outputId": "823765ab-c2b9-4a88-e65c-8fcccedec386",
        "colab": {
          "base_uri": "https://localhost:8080/",
          "height": 87
        }
      },
      "source": [
        "%time Xbar.T @ Xbar\n",
        "%time Xbar @ Xbar.T\n",
        "pass # Put this here so that our output does not show result of computing `Xbar @ Xbar.T`"
      ],
      "execution_count": 0,
      "outputs": [
        {
          "output_type": "stream",
          "text": [
            "CPU times: user 43.1 ms, sys: 11.5 ms, total: 54.6 ms\n",
            "Wall time: 39.1 ms\n",
            "CPU times: user 58.5 ms, sys: 5.63 ms, total: 64.1 ms\n",
            "Wall time: 33.5 ms\n"
          ],
          "name": "stdout"
        }
      ]
    },
    {
      "cell_type": "markdown",
      "metadata": {
        "id": "-KuHMOmKzmm-",
        "colab_type": "text"
      },
      "source": [
        "Next we benchmark PCA, PCA_high_dim."
      ]
    },
    {
      "cell_type": "code",
      "metadata": {
        "id": "av_bJlLBzmm_",
        "colab_type": "code",
        "colab": {}
      },
      "source": [
        "times0 = []\n",
        "times1 = []\n",
        "\n",
        "# iterate over datasets of different size\n",
        "for datasetsize in np.arange(4, 784, step=100):\n",
        "    XX = Xbar[:datasetsize]\n",
        "    npc = 2\n",
        "    mu, sigma = time(lambda : PCA(XX, npc), repeat=10)\n",
        "    times0.append((datasetsize, mu, sigma))\n",
        "    \n",
        "    mu, sigma = time(lambda : PCA_high_dim(XX, npc), repeat=10)\n",
        "    times1.append((datasetsize, mu, sigma))\n",
        "    \n",
        "times0 = np.asarray(times0)\n",
        "times1 = np.asarray(times1)"
      ],
      "execution_count": 0,
      "outputs": []
    },
    {
      "cell_type": "markdown",
      "metadata": {
        "id": "VN7_uqPKzmnB",
        "colab_type": "text"
      },
      "source": [
        "Let's plot the running time. Spend some time and think about what this plot means. We mentioned in lectures that PCA_high_dim are advantageous when\n",
        "we have dataset size $N$ < data dimension $M$. Although our plot does not for the two running time does not intersect exactly at $N = M$, it does show the trend."
      ]
    },
    {
      "cell_type": "code",
      "metadata": {
        "scrolled": true,
        "id": "KQZ0bROfzmnC",
        "colab_type": "code",
        "outputId": "f5b7a053-56dc-4045-d3ce-0cbc3cf2cdb7",
        "colab": {
          "base_uri": "https://localhost:8080/",
          "height": 279
        }
      },
      "source": [
        "fig, ax = plt.subplots()\n",
        "ax.set(xlabel='number of datapoints', ylabel='run time')\n",
        "ax.errorbar(times0[:, 0], times0[:, 1], times0[:, 2], label=\"PCA\", linewidth=2)\n",
        "ax.errorbar(times1[:, 0], times1[:, 1], times1[:, 2], label=\"PCA_high_dim\", linewidth=2)\n",
        "ax.legend();"
      ],
      "execution_count": 0,
      "outputs": [
        {
          "output_type": "display_data",
          "data": {
            "image/png": "[encoded data removed]",
            "text/plain": [
              "<Figure size 432x288 with 1 Axes>"
            ]
          },
          "metadata": {
            "tags": []
          }
        }
      ]
    },
    {
      "cell_type": "markdown",
      "metadata": {
        "id": "nSeQXg1_zmnE",
        "colab_type": "text"
      },
      "source": [
        "Again, with the magic command `time`."
      ]
    },
    {
      "cell_type": "code",
      "metadata": {
        "id": "-n8FT85hzmnF",
        "colab_type": "code",
        "outputId": "5ab80def-19e9-4d93-f592-9063b89c28a7",
        "colab": {
          "base_uri": "https://localhost:8080/",
          "height": 87
        }
      },
      "source": [
        "%time PCA(Xbar, 2)\n",
        "%time PCA_high_dim(Xbar, 2)\n",
        "pass"
      ],
      "execution_count": 0,
      "outputs": [
        {
          "output_type": "stream",
          "text": [
            "CPU times: user 1.04 s, sys: 314 ms, total: 1.35 s\n",
            "Wall time: 692 ms\n",
            "CPU times: user 2.72 s, sys: 743 ms, total: 3.46 s\n",
            "Wall time: 1.78 s\n"
          ],
          "name": "stdout"
        }
      ]
    },
    {
      "cell_type": "markdown",
      "metadata": {
        "id": "OXQTyA2K2RES",
        "colab_type": "text"
      },
      "source": [
        "## 3. PCA for dimension reduction\n",
        "\n",
        "Sometimes, PCA is used for dimensionality reduction for the visualization of high dimensional data."
      ]
    },
    {
      "cell_type": "code",
      "metadata": {
        "id": "N0uujaV62S4X",
        "colab_type": "code",
        "outputId": "67b233a3-6085-4613-cab4-d031233f5ee3",
        "colab": {
          "base_uri": "https://localhost:8080/",
          "height": 34
        }
      },
      "source": [
        "pca.n_components = 2\n",
        "pca_data = pca.fit_transform(Xbar)\n",
        "import seaborn as sn\n",
        "# pca_reduced will contain the 2-d projects of simple data\n",
        "print(\"shape of pca_reduced.shape = \", pca_data.shape)"
      ],
      "execution_count": 0,
      "outputs": [
        {
          "output_type": "stream",
          "text": [
            "shape of pca_reduced.shape =  (1000, 2)\n"
          ],
          "name": "stdout"
        }
      ]
    },
    {
      "cell_type": "code",
      "metadata": {
        "id": "U_wnVxji2UoM",
        "colab_type": "code",
        "outputId": "a3c897f0-8ea3-4c44-f26f-03c682f027fa",
        "colab": {
          "base_uri": "https://localhost:8080/",
          "height": 441
        }
      },
      "source": [
        "pca_data = np.vstack((pca_data.T, labels[:1000])).T\n",
        "\n",
        "# creating a new data fram which help us in ploting the result data\n",
        "pca_df = pd.DataFrame(data=pca_data, columns=(\"1st_principal\", \"2nd_principal\", \"label\"))\n",
        "sn.FacetGrid(pca_df, hue=\"label\", height=6).map(plt.scatter, '1st_principal', '2nd_principal').add_legend()\n",
        "plt.show()"
      ],
      "execution_count": 0,
      "outputs": [
        {
          "output_type": "display_data",
          "data": {
            "image/png": "[encoded data removed]",
            "text/plain": [
              "<Figure size 474.375x432 with 1 Axes>"
            ]
          },
          "metadata": {
            "tags": []
          }
        }
      ]
    },
    {
      "cell_type": "markdown",
      "metadata": {
        "id": "hAYpz-Mc2XY5",
        "colab_type": "text"
      },
      "source": [
        "There is a lot of overlapping among classes means PCA not very good for the high dimensional dataset. Very few classes can be separated but most of them are mixed. PCA is mainly used for dimensionality reduction, not for visualization. To visualize high dimension data, we mostly use T-SNE.\n",
        "For more information about t-sne please refer to: https://medium.com/engineer-quant/t-sne-the-bits-that-no-one-learns-b5ce959ea1c2"
      ]
    },
    {
      "cell_type": "code",
      "metadata": {
        "id": "Ey11FyBF2Yft",
        "colab_type": "code",
        "outputId": "182c3dc9-d2ef-4384-95f6-0ba71ae661e7",
        "colab": {
          "base_uri": "https://localhost:8080/",
          "height": 441
        }
      },
      "source": [
        "from sklearn.manifold import TSNE\n",
        "\n",
        "model = TSNE(n_components=2, random_state=0)\n",
        "# configuring the parameteres\n",
        "# the number of components = 2\n",
        "# default perplexity = 30\n",
        "# default learning rate = 200\n",
        "# default Maximum number of iterations for the optimization = 1000\n",
        "\n",
        "tsne_data = model.fit_transform(Xbar)\n",
        "\n",
        "\n",
        "# creating a new data frame which help us in ploting the result data\n",
        "tsne_data = np.vstack((tsne_data.T, labels[:1000])).T\n",
        "tsne_df = pd.DataFrame(data=tsne_data, columns=(\"Dim_1\", \"Dim_2\", \"label\"))\n",
        "\n",
        "# Ploting the result of tsne\n",
        "sn.FacetGrid(tsne_df, hue=\"label\", height=6).map(plt.scatter, 'Dim_1', 'Dim_2').add_legend()\n",
        "plt.show()"
      ],
      "execution_count": 0,
      "outputs": [
        {
          "output_type": "display_data",
          "data": {
            "image/png": "[encoded data removed]",
            "text/plain": [
              "<Figure size 474.375x432 with 1 Axes>"
            ]
          },
          "metadata": {
            "tags": []
          }
        }
      ]
    },
    {
      "cell_type": "markdown",
      "metadata": {
        "id": "xgtUFS_G27q7",
        "colab_type": "text"
      },
      "source": [
        "As shown in the figure, the distribution of MNIST data is clearly distinguished by their label."
      ]
    },
    {
      "cell_type": "markdown",
      "metadata": {
        "id": "HANJ77c-3l6b",
        "colab_type": "text"
      },
      "source": [
        "## 4. Exercise\n",
        "> Using the iris dataset which consists of 3 different types of irises’ (Setosa, Versicolour, and Virginica) petal and sepal length, stored in a 150x4 numpy.ndarray, let's analyze the dataset using PCA. \n",
        "> You need to capture 2d-projected figures with **your own comments (short analysis)**.\n",
        "> You can use the functions implemented above or use sklearn.\n"
      ]
    },
    {
      "cell_type": "code",
      "metadata": {
        "id": "Q2Kwf9AvtDLX",
        "colab_type": "code",
        "outputId": "55588645-53d4-497e-b7a6-833726850bcb",
        "colab": {
          "base_uri": "https://localhost:8080/",
          "height": 262
        }
      },
      "source": [
        "# IMPLEMENT YOUR CODE !\n",
        "from sklearn.datasets import load_iris\n",
        "from sklearn.decomposition import PCA\n",
        "iris = datasets.load_iris()\n",
        "data=iris.data\n",
        "target=iris.target #label(type) of each datapoint\n",
        "types=iris.target_names #['setosa','versicolor','virginica']\n",
        "pca=PCA(n_components=2) #To capture 2d-projection, set pca.n_components=2\n",
        "X=pca.fit_transform(X) #projection\n",
        "for i,name in zip([0,1,2],types):\n",
        "  plt.scatter(X[target==i,0],X[target==i,1],label=name)\n",
        "plt.legend()\n",
        "plt.show()\n",
        "#Two principal components is enough to reduces dimensions of iris data\n",
        "#while datapoints are still seperated well without overlapping"
      ],
      "execution_count": 0,
      "outputs": [
        {
          "output_type": "display_data",
          "data": {
            "image/png": "[encoded data removed]",
            "text/plain": [
              "<Figure size 432x288 with 1 Axes>"
            ]
          },
          "metadata": {
            "tags": []
          }
        }
      ]
    }
  ]
}